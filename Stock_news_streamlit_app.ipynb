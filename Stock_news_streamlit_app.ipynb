{
 "cells": [
  {
   "cell_type": "code",
   "execution_count": 2,
   "metadata": {},
   "outputs": [
    {
     "name": "stdout",
     "output_type": "stream",
     "text": [
      "The streamlit module is not an IPython extension.\n"
     ]
    }
   ],
   "source": [
    "import streamlit as st\n",
    "import requests\n",
    "from bs4 import BeautifulSoup\n",
    "from vaderSentiment.vaderSentiment import SentimentIntensityAnalyzer\n",
    "from datetime import datetime, timedelta\n",
    "\n",
    "%load_ext streamlit\n",
    "\n",
    "def get_stock_news(page_number, start_date=None, end_date=None):\n",
    "    date_filter = f\"&sd={start_date.strftime('%Y%m%d')}\" if start_date else \"\"\n",
    "    date_filter += f\"&ed={end_date.strftime('%Y%m%d')}\" if end_date else \"\"\n",
    "\n",
    "    headlines = []\n",
    "    linkz = []\n",
    "    resp = requests.get(f\"https://economictimes.indiatimes.com/markets/stocks/rssfeeds/2146842.cms?page={page_number}{date_filter}\")\n",
    "    soup = BeautifulSoup(resp.content, features='xml')\n",
    "    k = soup.findAll('title')\n",
    "    lnk = soup.findAll('link')\n",
    "\n",
    "    for txt in k:\n",
    "        headlines.append(txt.get_text())\n",
    "\n",
    "    for links in lnk:\n",
    "        linkz.append(links.get_text())\n",
    "\n",
    "    linkz = linkz[2:len(linkz)]\n",
    "    headlines = headlines[2:len(headlines)]\n",
    "\n",
    "    return list(zip(headlines, linkz))\n",
    "\n",
    "def analyze_sentiment(text):\n",
    "    analyzer = SentimentIntensityAnalyzer()\n",
    "    sentiment_score = analyzer.polarity_scores(text)['compound']\n",
    "    return sentiment_score\n",
    "\n",
    "def main():\n",
    "    st.title(\"Stock News Headlines\")\n",
    "\n",
    "\n",
    "    search_query = st.sidebar.text_input(\"Search News\", \"\")\n",
    "    start_date = st.sidebar.date_input(\"Start Date\", (datetime.now() - timedelta(days=7)).date())\n",
    "    end_date = st.sidebar.date_input(\"End Date\", datetime.now().date())\n",
    "\n",
    "\n",
    "    news_list = get_stock_news(1, start_date, end_date)\n",
    "\n",
    "\n",
    "    filtered_news = [(headline, link) for headline, link in news_list\n",
    "                     if search_query and search_query.lower() in headline.lower()]\n",
    "\n",
    "\n",
    "    for i, (headline, link) in enumerate(filtered_news):\n",
    "        st.write(f\"{headline} - {link}\")\n",
    "        st.markdown(\"---\")"
   ]
  },
  {
   "cell_type": "code",
   "execution_count": null,
   "metadata": {},
   "outputs": [],
   "source": []
  }
 ],
 "metadata": {
  "kernelspec": {
   "display_name": "Python 3",
   "language": "python",
   "name": "python3"
  },
  "language_info": {
   "codemirror_mode": {
    "name": "ipython",
    "version": 3
   },
   "file_extension": ".py",
   "mimetype": "text/x-python",
   "name": "python",
   "nbconvert_exporter": "python",
   "pygments_lexer": "ipython3",
   "version": "3.8.5"
  }
 },
 "nbformat": 4,
 "nbformat_minor": 4
}
